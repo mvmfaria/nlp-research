{
 "cells": [
  {
   "cell_type": "code",
   "execution_count": 8,
   "metadata": {},
   "outputs": [
    {
     "name": "stdout",
     "output_type": "stream",
     "text": [
      "dogs:  654\n",
      "others  613\n"
     ]
    }
   ],
   "source": [
    "import json\n",
    "\n",
    "file = open('./dataset/akc-detected.json')\n",
    "data = json.load(file)\n",
    "\n",
    "#estats\n",
    "dogs = 0\n",
    "others = 0\n",
    "\n",
    "for element in data:\n",
    "    #print(element['description'])\n",
    "    if element['isdog'] == 1:\n",
    "        dogs += 1\n",
    "    else: \n",
    "        others += 1\n",
    "\n",
    "print(f'dogs: ', dogs)\n",
    "print(f'others ', others)"
   ]
  },
  {
   "cell_type": "code",
   "execution_count": null,
   "metadata": {},
   "outputs": [],
   "source": []
  }
 ],
 "metadata": {
  "kernelspec": {
   "display_name": "Python 3",
   "language": "python",
   "name": "python3"
  },
  "language_info": {
   "codemirror_mode": {
    "name": "ipython",
    "version": 3
   },
   "file_extension": ".py",
   "mimetype": "text/x-python",
   "name": "python",
   "nbconvert_exporter": "python",
   "pygments_lexer": "ipython3",
   "version": "3.8.10"
  },
  "orig_nbformat": 4
 },
 "nbformat": 4,
 "nbformat_minor": 2
}
