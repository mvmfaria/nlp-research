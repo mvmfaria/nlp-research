{
 "cells": [
  {
   "attachments": {},
   "cell_type": "markdown",
   "metadata": {},
   "source": [
    "#### Gazetteer Classifier\n",
    "A ideia desse classificador é bem simples. O que faremos é percorrer o documento que estamos analisando (parágrafo, alt, ...) e verificar se existe alguma palavra que esteja em nosso gazetteer.\n",
    "\n",
    "O \"Gazetteer\" consiste em definir uma lista de palavras siginificativa para a classe que queremos identicar no texto. Como nosso estudo de caso é a classe \"cachorro\", o gazetteer que estamos utilizando possui todas as raças identificadas de cachorros."
   ]
  },
  {
   "cell_type": "code",
   "execution_count": 277,
   "metadata": {},
   "outputs": [
    {
     "name": "stderr",
     "output_type": "stream",
     "text": [
      "[nltk_data] Downloading package punkt to\n",
      "[nltk_data]     C:\\Users\\marco\\AppData\\Roaming\\nltk_data...\n",
      "[nltk_data]   Package punkt is already up-to-date!\n",
      "[nltk_data] Downloading package stopwords to\n",
      "[nltk_data]     C:\\Users\\marco\\AppData\\Roaming\\nltk_data...\n",
      "[nltk_data]   Package stopwords is already up-to-date!\n"
     ]
    }
   ],
   "source": [
    "import re\n",
    "import nltk \n",
    "import spacy\n",
    "import csv\n",
    "import numpy as np\n",
    "\n",
    "import pandas as pd\n",
    "from string import punctuation\n",
    "nltk.download('punkt')\n",
    "nltk.download('stopwords')\n",
    "import matplotlib.pyplot as plt\n",
    "\n",
    "from unidecode import unidecode\n",
    "from string import punctuation\n",
    "from sklearn.feature_extraction.text import CountVectorizer, TfidfVectorizer\n",
    "from nltk import word_tokenize\n",
    "from nltk.corpus import stopwords\n",
    "from nltk.stem import WordNetLemmatizer\n",
    "\n",
    "from spacy.lang.en.stop_words import STOP_WORDS\n",
    "\n",
    "%matplotlib inline"
   ]
  },
  {
   "attachments": {},
   "cell_type": "markdown",
   "metadata": {},
   "source": [
    "#### Carregando gazetteer.\n",
    "A ideia é que o gazetteer seja o baseline do projeto."
   ]
  },
  {
   "cell_type": "code",
   "execution_count": 278,
   "metadata": {},
   "outputs": [],
   "source": [
    "#Gazetteer:\n",
    "gazetteer = pd.read_csv('./gazetteer.csv')"
   ]
  },
  {
   "attachments": {},
   "cell_type": "markdown",
   "metadata": {},
   "source": [
    "#### Reestruturando o gazetteer.\n",
    "Particionando a raça na lista em subtermos do gazetteer."
   ]
  },
  {
   "cell_type": "code",
   "execution_count": 279,
   "metadata": {},
   "outputs": [],
   "source": [
    "#Definimos um conjunto (evita elemento iguais) para armazenar os subtermos do novo gazetteer.\n",
    "new_gazetteer = set()\n",
    "\n",
    "#Percorremos cada linha do arquivo para particionar os textos.\n",
    "for linha in gazetteer['text']:\n",
    "    for termo in linha.split():\n",
    "\n",
    "        #Aqui estabelecemos o tamanho minimo da palavra que iremos aceitar do gzt.\n",
    "        if len(termo) > 2:\n",
    "            new_gazetteer.add(termo)\n",
    "\n",
    "new_gazetteer = list(new_gazetteer)\n",
    "df = pd.DataFrame(new_gazetteer)\n",
    "df.columns = [\"text\"]\n",
    "df.to_csv(\"new_gazetteer.csv\", index=False)\n",
    "\n",
    "#Gazetteer:\n",
    "gazetteer = pd.read_csv('./new_gazetteer.csv')"
   ]
  },
  {
   "attachments": {},
   "cell_type": "markdown",
   "metadata": {},
   "source": [
    "#### Carregando base de dados."
   ]
  },
  {
   "cell_type": "code",
   "execution_count": 280,
   "metadata": {},
   "outputs": [],
   "source": [
    "#Base de teste utilizado no momento:\n",
    "test_dataset = pd.read_csv('./manual_labeled.csv')\n",
    "\n",
    "test_dataset['is_not_dog'] = test_dataset['isdog']* -1 + 1\n",
    "test_dataset.drop(columns=['isdog'], inplace=True)"
   ]
  },
  {
   "attachments": {},
   "cell_type": "markdown",
   "metadata": {},
   "source": [
    "#### Método responsável por fazer pré-processamento nos textos."
   ]
  },
  {
   "cell_type": "code",
   "execution_count": 281,
   "metadata": {},
   "outputs": [],
   "source": [
    "sw = stopwords.words('english')\n",
    "lemmatizer = WordNetLemmatizer() \n",
    "\n",
    "def clean_text(text):\n",
    "    \n",
    "    #Deixando texto em caixa baixa.\n",
    "    text = text.lower()\n",
    "\n",
    "    #Removendo extensão\n",
    "    text = re.sub('\\.[^.\\\\/:*?\"<>|\\r\\n]+$', '', text)\n",
    "\n",
    "    text = re.sub(r\"[^a-zA-Z?.!,¿]+\", \" \", text) # replacing everything with space except (a-z, A-Z, \".\", \"?\", \"!\", \",\")\n",
    "\n",
    "    text = re.sub(r\"http\\S+\", \"\",text) #Removing URLs \n",
    "    \n",
    "    #text = re.sub(r\"http\", \"\",text)\n",
    "    \n",
    "    html=re.compile(r'<.*?>') \n",
    "    \n",
    "    text = html.sub(r'',text) #Removing html tags\n",
    "    \n",
    "    punctuations = '@#!?+&*[]-%.:/();$=><|{}^' + \"'`\" + '_'\n",
    "    for p in punctuations:\n",
    "        text = text.replace(p,'') #Removing punctuations\n",
    "        \n",
    "    # text = [word.lower() for word in text.split() if word.lower() not in sw]\n",
    "    text = [word.lower() for word in text.split()]\n",
    "    \n",
    "    text = [lemmatizer.lemmatize(word) for word in text]\n",
    "    \n",
    "    text = \" \".join(text) #removing stopwords\n",
    "    \n",
    "    emoji_pattern = re.compile(\"[\"\n",
    "                           u\"\\U0001F600-\\U0001F64F\"  # emoticons\n",
    "                           u\"\\U0001F300-\\U0001F5FF\"  # symbols & pictographs\n",
    "                           u\"\\U0001F680-\\U0001F6FF\"  # transport & map symbols\n",
    "                           u\"\\U0001F1E0-\\U0001F1FF\"  # flags (iOS)\n",
    "                           u\"\\U00002702-\\U000027B0\"\n",
    "                           u\"\\U000024C2-\\U0001F251\"\n",
    "                           \"]+\", flags=re.UNICODE)\n",
    "    text = emoji_pattern.sub(r'', text) #Removing emojis\n",
    "    \n",
    "    return text"
   ]
  },
  {
   "attachments": {},
   "cell_type": "markdown",
   "metadata": {},
   "source": [
    "#### Limpando texto de teste e adicionando no .csv"
   ]
  },
  {
   "cell_type": "code",
   "execution_count": 282,
   "metadata": {},
   "outputs": [
    {
     "data": {
      "text/html": [
       "<div>\n",
       "<style scoped>\n",
       "    .dataframe tbody tr th:only-of-type {\n",
       "        vertical-align: middle;\n",
       "    }\n",
       "\n",
       "    .dataframe tbody tr th {\n",
       "        vertical-align: top;\n",
       "    }\n",
       "\n",
       "    .dataframe thead th {\n",
       "        text-align: right;\n",
       "    }\n",
       "</style>\n",
       "<table border=\"1\" class=\"dataframe\">\n",
       "  <thead>\n",
       "    <tr style=\"text-align: right;\">\n",
       "      <th></th>\n",
       "      <th>text</th>\n",
       "      <th>is_not_dog</th>\n",
       "      <th>text_clean</th>\n",
       "    </tr>\n",
       "  </thead>\n",
       "  <tbody>\n",
       "    <tr>\n",
       "      <th>0</th>\n",
       "      <td>Judy Ann Santos</td>\n",
       "      <td>1</td>\n",
       "      <td>judy ann santos</td>\n",
       "    </tr>\n",
       "    <tr>\n",
       "      <th>1</th>\n",
       "      <td>Sluishuis</td>\n",
       "      <td>1</td>\n",
       "      <td>sluishuis</td>\n",
       "    </tr>\n",
       "    <tr>\n",
       "      <th>2</th>\n",
       "      <td>King Charles III and Queen Camilla</td>\n",
       "      <td>1</td>\n",
       "      <td>king charles iii and queen camilla</td>\n",
       "    </tr>\n",
       "    <tr>\n",
       "      <th>3</th>\n",
       "      <td>Frontispiece of the Diamond Sutra</td>\n",
       "      <td>1</td>\n",
       "      <td>frontispiece of the diamond sutra</td>\n",
       "    </tr>\n",
       "    <tr>\n",
       "      <th>4</th>\n",
       "      <td>Pinnularia</td>\n",
       "      <td>1</td>\n",
       "      <td>pinnularia</td>\n",
       "    </tr>\n",
       "    <tr>\n",
       "      <th>...</th>\n",
       "      <td>...</td>\n",
       "      <td>...</td>\n",
       "      <td>...</td>\n",
       "    </tr>\n",
       "    <tr>\n",
       "      <th>641</th>\n",
       "      <td>Brutus bullmastiff.jpg</td>\n",
       "      <td>0</td>\n",
       "      <td>brutus bullmastiff</td>\n",
       "    </tr>\n",
       "    <tr>\n",
       "      <th>642</th>\n",
       "      <td>PakistaniMastiffPunjab.jpg</td>\n",
       "      <td>0</td>\n",
       "      <td>pakistanimastiffpunjab</td>\n",
       "    </tr>\n",
       "    <tr>\n",
       "      <th>643</th>\n",
       "      <td>Burgos Pointer or Perdiguero de Burgos.JPG</td>\n",
       "      <td>0</td>\n",
       "      <td>burgos pointer or perdiguero de burgos</td>\n",
       "    </tr>\n",
       "    <tr>\n",
       "      <th>644</th>\n",
       "      <td>Owczarek wschodnioeuropejski MB 01.jpg</td>\n",
       "      <td>0</td>\n",
       "      <td>owczarek wschodnioeuropejski mb</td>\n",
       "    </tr>\n",
       "    <tr>\n",
       "      <th>645</th>\n",
       "      <td>BlackNorwegianElkhound.jpg</td>\n",
       "      <td>0</td>\n",
       "      <td>blacknorwegianelkhound</td>\n",
       "    </tr>\n",
       "  </tbody>\n",
       "</table>\n",
       "<p>646 rows × 3 columns</p>\n",
       "</div>"
      ],
      "text/plain": [
       "                                           text  is_not_dog  \\\n",
       "0                               Judy Ann Santos           1   \n",
       "1                                     Sluishuis           1   \n",
       "2            King Charles III and Queen Camilla           1   \n",
       "3             Frontispiece of the Diamond Sutra           1   \n",
       "4                                    Pinnularia           1   \n",
       "..                                          ...         ...   \n",
       "641                      Brutus bullmastiff.jpg           0   \n",
       "642                  PakistaniMastiffPunjab.jpg           0   \n",
       "643  Burgos Pointer or Perdiguero de Burgos.JPG           0   \n",
       "644      Owczarek wschodnioeuropejski MB 01.jpg           0   \n",
       "645                  BlackNorwegianElkhound.jpg           0   \n",
       "\n",
       "                                 text_clean  \n",
       "0                           judy ann santos  \n",
       "1                                 sluishuis  \n",
       "2        king charles iii and queen camilla  \n",
       "3         frontispiece of the diamond sutra  \n",
       "4                                pinnularia  \n",
       "..                                      ...  \n",
       "641                      brutus bullmastiff  \n",
       "642                  pakistanimastiffpunjab  \n",
       "643  burgos pointer or perdiguero de burgos  \n",
       "644         owczarek wschodnioeuropejski mb  \n",
       "645                  blacknorwegianelkhound  \n",
       "\n",
       "[646 rows x 3 columns]"
      ]
     },
     "execution_count": 282,
     "metadata": {},
     "output_type": "execute_result"
    }
   ],
   "source": [
    "#Cria uma nova coluna na tabela com os textos limpos.\n",
    "test_dataset['text_clean'] = test_dataset['text'].apply(clean_text)\n",
    "\n",
    "test_dataset"
   ]
  },
  {
   "attachments": {},
   "cell_type": "markdown",
   "metadata": {},
   "source": [
    "#### Rodando o classificador (Gazetteer).\n"
   ]
  },
  {
   "cell_type": "code",
   "execution_count": 283,
   "metadata": {},
   "outputs": [
    {
     "data": {
      "text/html": [
       "<div>\n",
       "<style scoped>\n",
       "    .dataframe tbody tr th:only-of-type {\n",
       "        vertical-align: middle;\n",
       "    }\n",
       "\n",
       "    .dataframe tbody tr th {\n",
       "        vertical-align: top;\n",
       "    }\n",
       "\n",
       "    .dataframe thead th {\n",
       "        text-align: right;\n",
       "    }\n",
       "</style>\n",
       "<table border=\"1\" class=\"dataframe\">\n",
       "  <thead>\n",
       "    <tr style=\"text-align: right;\">\n",
       "      <th></th>\n",
       "      <th>text</th>\n",
       "      <th>is_not_dog</th>\n",
       "      <th>text_clean</th>\n",
       "      <th>gazetteer_result</th>\n",
       "    </tr>\n",
       "  </thead>\n",
       "  <tbody>\n",
       "    <tr>\n",
       "      <th>0</th>\n",
       "      <td>Judy Ann Santos</td>\n",
       "      <td>1</td>\n",
       "      <td>judy ann santos</td>\n",
       "      <td>1</td>\n",
       "    </tr>\n",
       "    <tr>\n",
       "      <th>1</th>\n",
       "      <td>Sluishuis</td>\n",
       "      <td>1</td>\n",
       "      <td>sluishuis</td>\n",
       "      <td>1</td>\n",
       "    </tr>\n",
       "    <tr>\n",
       "      <th>2</th>\n",
       "      <td>King Charles III and Queen Camilla</td>\n",
       "      <td>1</td>\n",
       "      <td>king charles iii and queen camilla</td>\n",
       "      <td>0</td>\n",
       "    </tr>\n",
       "    <tr>\n",
       "      <th>3</th>\n",
       "      <td>Frontispiece of the Diamond Sutra</td>\n",
       "      <td>1</td>\n",
       "      <td>frontispiece of the diamond sutra</td>\n",
       "      <td>1</td>\n",
       "    </tr>\n",
       "    <tr>\n",
       "      <th>4</th>\n",
       "      <td>Pinnularia</td>\n",
       "      <td>1</td>\n",
       "      <td>pinnularia</td>\n",
       "      <td>1</td>\n",
       "    </tr>\n",
       "    <tr>\n",
       "      <th>...</th>\n",
       "      <td>...</td>\n",
       "      <td>...</td>\n",
       "      <td>...</td>\n",
       "      <td>...</td>\n",
       "    </tr>\n",
       "    <tr>\n",
       "      <th>641</th>\n",
       "      <td>Brutus bullmastiff.jpg</td>\n",
       "      <td>0</td>\n",
       "      <td>brutus bullmastiff</td>\n",
       "      <td>0</td>\n",
       "    </tr>\n",
       "    <tr>\n",
       "      <th>642</th>\n",
       "      <td>PakistaniMastiffPunjab.jpg</td>\n",
       "      <td>0</td>\n",
       "      <td>pakistanimastiffpunjab</td>\n",
       "      <td>0</td>\n",
       "    </tr>\n",
       "    <tr>\n",
       "      <th>643</th>\n",
       "      <td>Burgos Pointer or Perdiguero de Burgos.JPG</td>\n",
       "      <td>0</td>\n",
       "      <td>burgos pointer or perdiguero de burgos</td>\n",
       "      <td>0</td>\n",
       "    </tr>\n",
       "    <tr>\n",
       "      <th>644</th>\n",
       "      <td>Owczarek wschodnioeuropejski MB 01.jpg</td>\n",
       "      <td>0</td>\n",
       "      <td>owczarek wschodnioeuropejski mb</td>\n",
       "      <td>1</td>\n",
       "    </tr>\n",
       "    <tr>\n",
       "      <th>645</th>\n",
       "      <td>BlackNorwegianElkhound.jpg</td>\n",
       "      <td>0</td>\n",
       "      <td>blacknorwegianelkhound</td>\n",
       "      <td>0</td>\n",
       "    </tr>\n",
       "  </tbody>\n",
       "</table>\n",
       "<p>646 rows × 4 columns</p>\n",
       "</div>"
      ],
      "text/plain": [
       "                                           text  is_not_dog  \\\n",
       "0                               Judy Ann Santos           1   \n",
       "1                                     Sluishuis           1   \n",
       "2            King Charles III and Queen Camilla           1   \n",
       "3             Frontispiece of the Diamond Sutra           1   \n",
       "4                                    Pinnularia           1   \n",
       "..                                          ...         ...   \n",
       "641                      Brutus bullmastiff.jpg           0   \n",
       "642                  PakistaniMastiffPunjab.jpg           0   \n",
       "643  Burgos Pointer or Perdiguero de Burgos.JPG           0   \n",
       "644      Owczarek wschodnioeuropejski MB 01.jpg           0   \n",
       "645                  BlackNorwegianElkhound.jpg           0   \n",
       "\n",
       "                                 text_clean  gazetteer_result  \n",
       "0                           judy ann santos                 1  \n",
       "1                                 sluishuis                 1  \n",
       "2        king charles iii and queen camilla                 0  \n",
       "3         frontispiece of the diamond sutra                 1  \n",
       "4                                pinnularia                 1  \n",
       "..                                      ...               ...  \n",
       "641                      brutus bullmastiff                 0  \n",
       "642                  pakistanimastiffpunjab                 0  \n",
       "643  burgos pointer or perdiguero de burgos                 0  \n",
       "644         owczarek wschodnioeuropejski mb                 1  \n",
       "645                  blacknorwegianelkhound                 0  \n",
       "\n",
       "[646 rows x 4 columns]"
      ]
     },
     "execution_count": 283,
     "metadata": {},
     "output_type": "execute_result"
    }
   ],
   "source": [
    "#Função para verificar se existem termos do gazetteer nos textos.\n",
    "def verifica_texto(texto):\n",
    "    for brd in new_gazetteer:\n",
    "        if brd in texto:\n",
    "            return 0\n",
    "    return 1\n",
    "\n",
    "#Gera uma coluna com os resultados.\n",
    "test_dataset['gazetteer_result'] = test_dataset['text_clean'].apply(verifica_texto)\n",
    "test_dataset.loc[(test_dataset['is_not_dog']==1)].count()\n",
    "test_dataset"
   ]
  },
  {
   "attachments": {},
   "cell_type": "markdown",
   "metadata": {},
   "source": [
    "#### Resultados"
   ]
  },
  {
   "cell_type": "code",
   "execution_count": 284,
   "metadata": {},
   "outputs": [
    {
     "name": "stdout",
     "output_type": "stream",
     "text": [
      "483 | 127\n",
      "--------\n",
      "21 | 15\n"
     ]
    }
   ],
   "source": [
    "#Métricas.\n",
    "VP = 0\n",
    "VN = 0\n",
    "FP = 0\n",
    "FN = 0\n",
    "\n",
    "#Verificando resultados.\n",
    "for indice, linha in test_dataset.iterrows():\n",
    "        \n",
    "        valor_coluna1 = linha['is_not_dog']\n",
    "        valor_coluna2 = linha['gazetteer_result']\n",
    "        \n",
    "        if valor_coluna1 == 1 and valor_coluna2 == 1:\n",
    "                VP += 1\n",
    "        elif valor_coluna1 == 0 and valor_coluna2 == 0:\n",
    "                VN += 1\n",
    "        elif valor_coluna1 == 1 and valor_coluna2 == 0:\n",
    "                FN += 1\n",
    "        else:\n",
    "                FP += 1\n",
    "\n",
    "#Imprimindo resultados.\n",
    "print(f'{VN} | {FP}')\n",
    "print('--------')\n",
    "print(f'{FN} | {VP}')\n"
   ]
  },
  {
   "attachments": {},
   "cell_type": "markdown",
   "metadata": {},
   "source": [
    "Matriz de confusão normalizada."
   ]
  },
  {
   "cell_type": "code",
   "execution_count": 285,
   "metadata": {},
   "outputs": [
    {
     "name": "stdout",
     "output_type": "stream",
     "text": [
      "0.1056338028169014 0.4166666666666667 0.16853932584269662\n"
     ]
    },
    {
     "data": {
      "image/png": "[encoded data removed]",
      "text/plain": [
       "<Figure size 640x480 with 2 Axes>"
      ]
     },
     "metadata": {},
     "output_type": "display_data"
    }
   ],
   "source": [
    "from sklearn.metrics import confusion_matrix, ConfusionMatrixDisplay, precision_score, recall_score, f1_score\n",
    "\n",
    "y_true = test_dataset['is_not_dog']\n",
    "y_pred = test_dataset['gazetteer_result']\n",
    "\n",
    "ConfusionMatrixDisplay.from_predictions(y_true, y_pred, normalize=\"true\")\n",
    "print(precision_score(y_true, y_pred), recall_score(y_true, y_pred), f1_score(y_true, y_pred))"
   ]
  },
  {
   "cell_type": "code",
   "execution_count": 286,
   "metadata": {},
   "outputs": [
    {
     "name": "stdout",
     "output_type": "stream",
     "text": [
      "0.05572755417956656 1.0 0.10557184750733138\n"
     ]
    },
    {
     "data": {
      "image/png": "[encoded data removed]",
      "text/plain": [
       "<Figure size 640x480 with 2 Axes>"
      ]
     },
     "metadata": {},
     "output_type": "display_data"
    }
   ],
   "source": [
    "tudo_verdade = np.ones_like(y_true)\n",
    "ConfusionMatrixDisplay.from_predictions(y_true, tudo_verdade, normalize=\"true\")\n",
    "print(precision_score(y_true, tudo_verdade), recall_score(y_true, tudo_verdade), f1_score(y_true, tudo_verdade))"
   ]
  }
 ],
 "metadata": {
  "kernelspec": {
   "display_name": "Python 3",
   "language": "python",
   "name": "python3"
  },
  "language_info": {
   "codemirror_mode": {
    "name": "ipython",
    "version": 3
   },
   "file_extension": ".py",
   "mimetype": "text/x-python",
   "name": "python",
   "nbconvert_exporter": "python",
   "pygments_lexer": "ipython3",
   "version": "3.11.2"
  },
  "orig_nbformat": 4
 },
 "nbformat": 4,
 "nbformat_minor": 2
}
